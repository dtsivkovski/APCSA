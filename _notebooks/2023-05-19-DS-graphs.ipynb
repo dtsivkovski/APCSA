{
 "cells": [
  {
   "attachments": {},
   "cell_type": "markdown",
   "metadata": {},
   "source": [
    "# Graph Data Structure\n",
    "> Overview of the Graph Data Structure.  \n",
    "\n",
    "- toc: true\n",
    "- categories: []\n",
    "- image: /images/java-icon.png\n",
    "- type: ap\n",
    "- week: 34"
   ]
  },
  {
   "attachments": {},
   "cell_type": "markdown",
   "metadata": {},
   "source": [
    "## Terms\n",
    "Node, Vertices, Edge, Adjacency, Weighted, Directed, Breadth, Depth\n"
   ]
  },
  {
   "attachments": {},
   "cell_type": "markdown",
   "metadata": {},
   "source": [
    "## Supporting Data Structures\n",
    "Class, List, Stack, Queue"
   ]
  },
  {
   "attachments": {},
   "cell_type": "markdown",
   "metadata": {},
   "source": [
    "# Introduction\n",
    "\n",
    "The main thing to recognize in graph theory is that there will be a set of vertices and edges\n",
    "\n",
    "### Vertices and Edges\n",
    "\n",
    "- Vertice: A point on the graph\n",
    "- Edge: A line that connects two vertices\n",
    "\n",
    "![Graph Example](https://www.tutorialspoint.com/graph_theory/images/vertices_of_the_graph.jpg)\n",
    "\n",
    "| Vertices | Edges |\n",
    "| ----- | ----- |\n",
    "| a,b,c,d | ab, ac, ad, cd |"
   ]
  },
  {
   "attachments": {},
   "cell_type": "markdown",
   "metadata": {},
   "source": [
    "### Degrees \n",
    "\n",
    "Degrees are the number of edges that connect to a vertice. In the example above, vertice a has a degree of 3."
   ]
  },
  {
   "attachments": {},
   "cell_type": "markdown",
   "metadata": {},
   "source": [
    "# Graph Objects"
   ]
  },
  {
   "cell_type": "code",
   "execution_count": 6,
   "metadata": {
    "vscode": {
     "languageId": "java"
    }
   },
   "outputs": [],
   "source": [
    "class Vertex {\n",
    "    private char name;\n",
    "    private double x;\n",
    "    private double y;\n",
    "\n",
    "    // create new vertex with specified name, x and y coordinates\n",
    "    public Vertex(char name, double x, double y) {\n",
    "        this.name = name;\n",
    "        this.x = x;\n",
    "        this.y = y;\n",
    "    }\n",
    "\n",
    "    // getters for coordinates\n",
    "    public double getX() {\n",
    "        return this.x;\n",
    "    }\n",
    "    public double getY() {\n",
    "        return this.y;\n",
    "    }\n",
    "\n",
    "}\n",
    "\n",
    "class Edge {\n",
    "    private Vertex vertOne;\n",
    "    private Vertex vertTwo;\n",
    "    private double length;\n",
    "\n",
    "    public Edge(Vertex vertOne, Vertex vertTwo) {\n",
    "        this.vertOne = vertOne;\n",
    "        this.vertTwo = vertTwo;\n",
    "        calculateLength();\n",
    "    }\n",
    "\n",
    "    private void calculateLength() {\n",
    "        double distX = vertOne.getX() - vertTwo.getY();\n",
    "        double distY = vertOne.getY() - vertTwo.getY();\n",
    "\n",
    "        // calculate length, square root of dist x + dist y squared\n",
    "        this.length = Math.sqrt((Math.pow(distX,2)) + (Math.pow(distY, 2)));\n",
    "        return;\n",
    "    }\n",
    "\n",
    "    private double getLength() {\n",
    "        return this.length;\n",
    "    }\n",
    "\n",
    "\n",
    "}\n",
    "\n",
    "class Graph {\n",
    "    \n",
    "}"
   ]
  }
 ],
 "metadata": {
  "kernelspec": {
   "display_name": "Java",
   "language": "java",
   "name": "java"
  },
  "language_info": {
   "codemirror_mode": "java",
   "file_extension": ".jshell",
   "mimetype": "text/x-java-source",
   "name": "Java",
   "pygments_lexer": "java",
   "version": "11.0.16+8-post-Ubuntu-0ubuntu120.04"
  },
  "orig_nbformat": 4
 },
 "nbformat": 4,
 "nbformat_minor": 2
}
